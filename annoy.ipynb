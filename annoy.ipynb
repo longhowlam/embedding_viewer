{
 "metadata": {
  "language_info": {
   "codemirror_mode": {
    "name": "ipython",
    "version": 3
   },
   "file_extension": ".py",
   "mimetype": "text/x-python",
   "name": "python",
   "nbconvert_exporter": "python",
   "pygments_lexer": "ipython3",
   "version": 3
  },
  "orig_nbformat": 2,
  "kernelspec": {
   "name": "python_defaultSpec_1597149198588",
   "display_name": "Python 3.7.3 64-bit ('base': conda)"
  }
 },
 "nbformat": 4,
 "nbformat_minor": 2,
 "cells": [
  {
   "cell_type": "markdown",
   "metadata": {},
   "source": [
    "## TEST with parlement speech embeddings"
   ]
  },
  {
   "cell_type": "code",
   "execution_count": 1,
   "metadata": {},
   "outputs": [],
   "source": [
    "from annoy import AnnoyIndex\n",
    "import random\n",
    "import pickle\n",
    "from sklearn.metrics.pairwise import cosine_similarity\n",
    "\n",
    "import tensorflow_text\n",
    "import tensorflow_hub as hub"
   ]
  },
  {
   "cell_type": "code",
   "execution_count": 2,
   "metadata": {},
   "outputs": [],
   "source": [
    "embeddings = pickle.load(open(\"kamer_debatten_recente_speeches_met_emb.pck\", \"rb\"))"
   ]
  },
  {
   "cell_type": "code",
   "execution_count": 3,
   "metadata": {},
   "outputs": [
    {
     "output_type": "execute_result",
     "data": {
      "text/plain": "              date  agenda  speechnumber                         speaker  \\\n0       2010-01-12     NaN             1                         weekers   \n1       2010-01-12     NaN             2                             bos   \n2       2010-01-12     NaN             3                         weekers   \n3       2010-01-12     NaN             4                             bos   \n4       2010-01-12     NaN             5                  tony van dijck   \n...            ...     ...           ...                             ...   \n468192  2019-07-04     NaN           963  staatssecretaris broekers-knol   \n468193  2019-07-04     NaN           965  staatssecretaris broekers-knol   \n468194  2019-07-04     NaN           967                   de voorzitter   \n468195  2019-07-04     NaN           968          mevrouw van toorenburg   \n468196  2019-07-04     NaN           969                   de voorzitter   \n\n       party  party.facts.id  chair  terms  \\\n0        VVD           828.0  False    376   \n1       PvdA          1234.0  False    260   \n2        VVD           828.0  False    204   \n3       PvdA          1234.0  False    226   \n4        PVV           298.0  False    107   \n...      ...             ...    ...    ...   \n468192   NaN             NaN  False    290   \n468193   NaN             NaN  False    142   \n468194   NaN             NaN   True     62   \n468195   CDA          1157.0  False     21   \n468196   NaN             NaN   True     75   \n\n                                                     text      parliament  \\\n0       Voorzitter. In de week van de val van DSB heef...  NL-TweedeKamer   \n1       Voorzitter. De laatste conclusie van de heer W...  NL-TweedeKamer   \n2       Het gaat ons er niet om dat de minister zich b...  NL-TweedeKamer   \n3       Ik zal die zorgen overbrengen aan de heer Sche...  NL-TweedeKamer   \n4       Ook de fractie van de Partij voor de Vrijheid ...  NL-TweedeKamer   \n...                                                   ...             ...   \n468192  Ik ga uit van de gegevens die wij hebben gekre...  NL-TweedeKamer   \n468193  Dan de motie op stuk nr. 2519 van de heer Hidd...  NL-TweedeKamer   \n468194  Over exact 60 minuten gaan wij stemmen over de...  NL-TweedeKamer   \n468195  Toch nog even — misschien is het allemaal afge...  NL-TweedeKamer   \n468196  Ja, wat mij betreft zou ik 60 seconden willen ...  NL-TweedeKamer   \n\n        ...       502       503       504       505       506       507  \\\n0       ...  0.053838 -0.041742 -0.032260 -0.067037 -0.022552 -0.023394   \n1       ...  0.053762 -0.070165 -0.014723 -0.067824 -0.056783 -0.006215   \n2       ...  0.069975 -0.066717 -0.014065 -0.068072 -0.066792  0.006887   \n3       ...  0.082787 -0.077583  0.064040 -0.065484 -0.048932 -0.053128   \n4       ... -0.019395 -0.025600 -0.051116 -0.067381 -0.071851 -0.021703   \n...     ...       ...       ...       ...       ...       ...       ...   \n468192  ...  0.051056 -0.042262 -0.051334 -0.051260 -0.016387 -0.056653   \n468193  ...  0.059314 -0.056630 -0.031098 -0.041214 -0.001191  0.002085   \n468194  ...  0.008260 -0.023593  0.078514 -0.011184 -0.030405 -0.023197   \n468195  ... -0.073596  0.022221 -0.085983 -0.041239  0.000995 -0.014434   \n468196  ...  0.071359 -0.035882  0.060225 -0.043524 -0.069432  0.006534   \n\n             508       509       510       511  \n0      -0.065473 -0.069716  0.012569  0.062962  \n1      -0.072602 -0.071131 -0.018375  0.080761  \n2      -0.068825 -0.071827  0.018592  0.074508  \n3      -0.070319 -0.073950  0.039685  0.095769  \n4      -0.082825 -0.032184 -0.049826  0.088014  \n...          ...       ...       ...       ...  \n468192 -0.002518 -0.075303 -0.005929  0.087212  \n468193  0.038942 -0.011882  0.044419  0.059911  \n468194  0.012507 -0.052127  0.023723  0.062293  \n468195 -0.021121 -0.051808  0.041230  0.124054  \n468196 -0.043787 -0.033551  0.088078  0.090445  \n\n[468197 rows x 524 columns]",
      "text/html": "<div>\n<style scoped>\n    .dataframe tbody tr th:only-of-type {\n        vertical-align: middle;\n    }\n\n    .dataframe tbody tr th {\n        vertical-align: top;\n    }\n\n    .dataframe thead th {\n        text-align: right;\n    }\n</style>\n<table border=\"1\" class=\"dataframe\">\n  <thead>\n    <tr style=\"text-align: right;\">\n      <th></th>\n      <th>date</th>\n      <th>agenda</th>\n      <th>speechnumber</th>\n      <th>speaker</th>\n      <th>party</th>\n      <th>party.facts.id</th>\n      <th>chair</th>\n      <th>terms</th>\n      <th>text</th>\n      <th>parliament</th>\n      <th>...</th>\n      <th>502</th>\n      <th>503</th>\n      <th>504</th>\n      <th>505</th>\n      <th>506</th>\n      <th>507</th>\n      <th>508</th>\n      <th>509</th>\n      <th>510</th>\n      <th>511</th>\n    </tr>\n  </thead>\n  <tbody>\n    <tr>\n      <th>0</th>\n      <td>2010-01-12</td>\n      <td>NaN</td>\n      <td>1</td>\n      <td>weekers</td>\n      <td>VVD</td>\n      <td>828.0</td>\n      <td>False</td>\n      <td>376</td>\n      <td>Voorzitter. In de week van de val van DSB heef...</td>\n      <td>NL-TweedeKamer</td>\n      <td>...</td>\n      <td>0.053838</td>\n      <td>-0.041742</td>\n      <td>-0.032260</td>\n      <td>-0.067037</td>\n      <td>-0.022552</td>\n      <td>-0.023394</td>\n      <td>-0.065473</td>\n      <td>-0.069716</td>\n      <td>0.012569</td>\n      <td>0.062962</td>\n    </tr>\n    <tr>\n      <th>1</th>\n      <td>2010-01-12</td>\n      <td>NaN</td>\n      <td>2</td>\n      <td>bos</td>\n      <td>PvdA</td>\n      <td>1234.0</td>\n      <td>False</td>\n      <td>260</td>\n      <td>Voorzitter. De laatste conclusie van de heer W...</td>\n      <td>NL-TweedeKamer</td>\n      <td>...</td>\n      <td>0.053762</td>\n      <td>-0.070165</td>\n      <td>-0.014723</td>\n      <td>-0.067824</td>\n      <td>-0.056783</td>\n      <td>-0.006215</td>\n      <td>-0.072602</td>\n      <td>-0.071131</td>\n      <td>-0.018375</td>\n      <td>0.080761</td>\n    </tr>\n    <tr>\n      <th>2</th>\n      <td>2010-01-12</td>\n      <td>NaN</td>\n      <td>3</td>\n      <td>weekers</td>\n      <td>VVD</td>\n      <td>828.0</td>\n      <td>False</td>\n      <td>204</td>\n      <td>Het gaat ons er niet om dat de minister zich b...</td>\n      <td>NL-TweedeKamer</td>\n      <td>...</td>\n      <td>0.069975</td>\n      <td>-0.066717</td>\n      <td>-0.014065</td>\n      <td>-0.068072</td>\n      <td>-0.066792</td>\n      <td>0.006887</td>\n      <td>-0.068825</td>\n      <td>-0.071827</td>\n      <td>0.018592</td>\n      <td>0.074508</td>\n    </tr>\n    <tr>\n      <th>3</th>\n      <td>2010-01-12</td>\n      <td>NaN</td>\n      <td>4</td>\n      <td>bos</td>\n      <td>PvdA</td>\n      <td>1234.0</td>\n      <td>False</td>\n      <td>226</td>\n      <td>Ik zal die zorgen overbrengen aan de heer Sche...</td>\n      <td>NL-TweedeKamer</td>\n      <td>...</td>\n      <td>0.082787</td>\n      <td>-0.077583</td>\n      <td>0.064040</td>\n      <td>-0.065484</td>\n      <td>-0.048932</td>\n      <td>-0.053128</td>\n      <td>-0.070319</td>\n      <td>-0.073950</td>\n      <td>0.039685</td>\n      <td>0.095769</td>\n    </tr>\n    <tr>\n      <th>4</th>\n      <td>2010-01-12</td>\n      <td>NaN</td>\n      <td>5</td>\n      <td>tony van dijck</td>\n      <td>PVV</td>\n      <td>298.0</td>\n      <td>False</td>\n      <td>107</td>\n      <td>Ook de fractie van de Partij voor de Vrijheid ...</td>\n      <td>NL-TweedeKamer</td>\n      <td>...</td>\n      <td>-0.019395</td>\n      <td>-0.025600</td>\n      <td>-0.051116</td>\n      <td>-0.067381</td>\n      <td>-0.071851</td>\n      <td>-0.021703</td>\n      <td>-0.082825</td>\n      <td>-0.032184</td>\n      <td>-0.049826</td>\n      <td>0.088014</td>\n    </tr>\n    <tr>\n      <th>...</th>\n      <td>...</td>\n      <td>...</td>\n      <td>...</td>\n      <td>...</td>\n      <td>...</td>\n      <td>...</td>\n      <td>...</td>\n      <td>...</td>\n      <td>...</td>\n      <td>...</td>\n      <td>...</td>\n      <td>...</td>\n      <td>...</td>\n      <td>...</td>\n      <td>...</td>\n      <td>...</td>\n      <td>...</td>\n      <td>...</td>\n      <td>...</td>\n      <td>...</td>\n      <td>...</td>\n    </tr>\n    <tr>\n      <th>468192</th>\n      <td>2019-07-04</td>\n      <td>NaN</td>\n      <td>963</td>\n      <td>staatssecretaris broekers-knol</td>\n      <td>NaN</td>\n      <td>NaN</td>\n      <td>False</td>\n      <td>290</td>\n      <td>Ik ga uit van de gegevens die wij hebben gekre...</td>\n      <td>NL-TweedeKamer</td>\n      <td>...</td>\n      <td>0.051056</td>\n      <td>-0.042262</td>\n      <td>-0.051334</td>\n      <td>-0.051260</td>\n      <td>-0.016387</td>\n      <td>-0.056653</td>\n      <td>-0.002518</td>\n      <td>-0.075303</td>\n      <td>-0.005929</td>\n      <td>0.087212</td>\n    </tr>\n    <tr>\n      <th>468193</th>\n      <td>2019-07-04</td>\n      <td>NaN</td>\n      <td>965</td>\n      <td>staatssecretaris broekers-knol</td>\n      <td>NaN</td>\n      <td>NaN</td>\n      <td>False</td>\n      <td>142</td>\n      <td>Dan de motie op stuk nr. 2519 van de heer Hidd...</td>\n      <td>NL-TweedeKamer</td>\n      <td>...</td>\n      <td>0.059314</td>\n      <td>-0.056630</td>\n      <td>-0.031098</td>\n      <td>-0.041214</td>\n      <td>-0.001191</td>\n      <td>0.002085</td>\n      <td>0.038942</td>\n      <td>-0.011882</td>\n      <td>0.044419</td>\n      <td>0.059911</td>\n    </tr>\n    <tr>\n      <th>468194</th>\n      <td>2019-07-04</td>\n      <td>NaN</td>\n      <td>967</td>\n      <td>de voorzitter</td>\n      <td>NaN</td>\n      <td>NaN</td>\n      <td>True</td>\n      <td>62</td>\n      <td>Over exact 60 minuten gaan wij stemmen over de...</td>\n      <td>NL-TweedeKamer</td>\n      <td>...</td>\n      <td>0.008260</td>\n      <td>-0.023593</td>\n      <td>0.078514</td>\n      <td>-0.011184</td>\n      <td>-0.030405</td>\n      <td>-0.023197</td>\n      <td>0.012507</td>\n      <td>-0.052127</td>\n      <td>0.023723</td>\n      <td>0.062293</td>\n    </tr>\n    <tr>\n      <th>468195</th>\n      <td>2019-07-04</td>\n      <td>NaN</td>\n      <td>968</td>\n      <td>mevrouw van toorenburg</td>\n      <td>CDA</td>\n      <td>1157.0</td>\n      <td>False</td>\n      <td>21</td>\n      <td>Toch nog even — misschien is het allemaal afge...</td>\n      <td>NL-TweedeKamer</td>\n      <td>...</td>\n      <td>-0.073596</td>\n      <td>0.022221</td>\n      <td>-0.085983</td>\n      <td>-0.041239</td>\n      <td>0.000995</td>\n      <td>-0.014434</td>\n      <td>-0.021121</td>\n      <td>-0.051808</td>\n      <td>0.041230</td>\n      <td>0.124054</td>\n    </tr>\n    <tr>\n      <th>468196</th>\n      <td>2019-07-04</td>\n      <td>NaN</td>\n      <td>969</td>\n      <td>de voorzitter</td>\n      <td>NaN</td>\n      <td>NaN</td>\n      <td>True</td>\n      <td>75</td>\n      <td>Ja, wat mij betreft zou ik 60 seconden willen ...</td>\n      <td>NL-TweedeKamer</td>\n      <td>...</td>\n      <td>0.071359</td>\n      <td>-0.035882</td>\n      <td>0.060225</td>\n      <td>-0.043524</td>\n      <td>-0.069432</td>\n      <td>0.006534</td>\n      <td>-0.043787</td>\n      <td>-0.033551</td>\n      <td>0.088078</td>\n      <td>0.090445</td>\n    </tr>\n  </tbody>\n</table>\n<p>468197 rows × 524 columns</p>\n</div>"
     },
     "metadata": {},
     "execution_count": 3
    }
   ],
   "source": [
    "embeddings"
   ]
  },
  {
   "cell_type": "markdown",
   "metadata": {},
   "source": [
    "## afstanden tussen rijen met scikit learn"
   ]
  },
  {
   "cell_type": "code",
   "execution_count": 10,
   "metadata": {},
   "outputs": [],
   "source": [
    "def find_speeches(i:int, historic_speeches, K:int = 10) :\n",
    "    \n",
    "    testquery = historic_speeches.iloc[i:(i+1),12:524]\n",
    "   \n",
    "    #### look for the closest article embeddings, that we just created above\n",
    "    #### the results object is an array with nart cosine similarities\n",
    "    results = cosine_similarity(historic_speeches.iloc[:,12:524], testquery)\n",
    "\n",
    "    indices = results.argsort(axis = 0).ravel()\n",
    "    best_K = indices[-K:]\n",
    "\n",
    "    ### take corresponding articles\n",
    "    out = historic_speeches.iloc[best_K,:]\n",
    "    out = (\n",
    "        out\n",
    "        .assign(similarity = results[best_K].flatten())\n",
    "        .sort_values(by = \"similarity\", ascending = False)\n",
    "    )\n",
    "    return out[[\"datum\", \"speaker\", \"party\", \"text\", \"similarity\"]]\n",
    "    "
   ]
  },
  {
   "cell_type": "code",
   "execution_count": 11,
   "metadata": {
    "tags": []
   },
   "outputs": [
    {
     "output_type": "stream",
     "name": "stdout",
     "text": "CPU times: user 1.74 s, sys: 766 ms, total: 2.5 s\nWall time: 2.13 s\n"
    },
    {
     "output_type": "execute_result",
     "data": {
      "text/plain": "            datum                   speaker party  \\\n11     2010-01-12                       bos  PvdA   \n1      2010-01-12                       bos  PvdA   \n445203 2019-02-12      minister grapperhaus   NaN   \n105887 2012-03-07                 schippers   VVD   \n117142 2012-05-15                   aptroot   VVD   \n300100 2015-12-16    minister van der steur   NaN   \n456505 2019-04-17  staatssecretaris keijzer   NaN   \n99128  2012-01-31                 opstelten   CDA   \n302296 2016-01-20    minister van der steur   NaN   \n184499 2013-10-30                 schippers   VVD   \n\n                                                     text  similarity  \n11      Mevrouw de voorzitter. Mevrouw Verdonk is een ...    1.000000  \n1       Voorzitter. De laatste conclusie van de heer W...    0.764701  \n445203  Het is misschien goed om daar toch nog het vol...    0.702756  \n105887  Nee, ik heb de Kamer een onderzoek voorgesteld...    0.701216  \n117142  Ja, ik rond af. Ik heb een laatste punt over d...    0.698580  \n300100  Ik stel vast dat de commissie-Oosting dat ook ...    0.695527  \n456505  Ik zal mijn uiterste best voor u doen. In de m...    0.684091  \n99128   Op verzoek van de Kamer en in goed overleg met...    0.680848  \n302296  Ik vind dat de Kamer geïnformeerd moet worden....    0.679452  \n184499  Over de discussie, de debatten en de agenderin...    0.678469  ",
      "text/html": "<div>\n<style scoped>\n    .dataframe tbody tr th:only-of-type {\n        vertical-align: middle;\n    }\n\n    .dataframe tbody tr th {\n        vertical-align: top;\n    }\n\n    .dataframe thead th {\n        text-align: right;\n    }\n</style>\n<table border=\"1\" class=\"dataframe\">\n  <thead>\n    <tr style=\"text-align: right;\">\n      <th></th>\n      <th>datum</th>\n      <th>speaker</th>\n      <th>party</th>\n      <th>text</th>\n      <th>similarity</th>\n    </tr>\n  </thead>\n  <tbody>\n    <tr>\n      <th>11</th>\n      <td>2010-01-12</td>\n      <td>bos</td>\n      <td>PvdA</td>\n      <td>Mevrouw de voorzitter. Mevrouw Verdonk is een ...</td>\n      <td>1.000000</td>\n    </tr>\n    <tr>\n      <th>1</th>\n      <td>2010-01-12</td>\n      <td>bos</td>\n      <td>PvdA</td>\n      <td>Voorzitter. De laatste conclusie van de heer W...</td>\n      <td>0.764701</td>\n    </tr>\n    <tr>\n      <th>445203</th>\n      <td>2019-02-12</td>\n      <td>minister grapperhaus</td>\n      <td>NaN</td>\n      <td>Het is misschien goed om daar toch nog het vol...</td>\n      <td>0.702756</td>\n    </tr>\n    <tr>\n      <th>105887</th>\n      <td>2012-03-07</td>\n      <td>schippers</td>\n      <td>VVD</td>\n      <td>Nee, ik heb de Kamer een onderzoek voorgesteld...</td>\n      <td>0.701216</td>\n    </tr>\n    <tr>\n      <th>117142</th>\n      <td>2012-05-15</td>\n      <td>aptroot</td>\n      <td>VVD</td>\n      <td>Ja, ik rond af. Ik heb een laatste punt over d...</td>\n      <td>0.698580</td>\n    </tr>\n    <tr>\n      <th>300100</th>\n      <td>2015-12-16</td>\n      <td>minister van der steur</td>\n      <td>NaN</td>\n      <td>Ik stel vast dat de commissie-Oosting dat ook ...</td>\n      <td>0.695527</td>\n    </tr>\n    <tr>\n      <th>456505</th>\n      <td>2019-04-17</td>\n      <td>staatssecretaris keijzer</td>\n      <td>NaN</td>\n      <td>Ik zal mijn uiterste best voor u doen. In de m...</td>\n      <td>0.684091</td>\n    </tr>\n    <tr>\n      <th>99128</th>\n      <td>2012-01-31</td>\n      <td>opstelten</td>\n      <td>CDA</td>\n      <td>Op verzoek van de Kamer en in goed overleg met...</td>\n      <td>0.680848</td>\n    </tr>\n    <tr>\n      <th>302296</th>\n      <td>2016-01-20</td>\n      <td>minister van der steur</td>\n      <td>NaN</td>\n      <td>Ik vind dat de Kamer geïnformeerd moet worden....</td>\n      <td>0.679452</td>\n    </tr>\n    <tr>\n      <th>184499</th>\n      <td>2013-10-30</td>\n      <td>schippers</td>\n      <td>VVD</td>\n      <td>Over de discussie, de debatten en de agenderin...</td>\n      <td>0.678469</td>\n    </tr>\n  </tbody>\n</table>\n</div>"
     },
     "metadata": {},
     "execution_count": 11
    }
   ],
   "source": [
    "%%time \n",
    "find_speeches(11, embeddings)"
   ]
  },
  {
   "cell_type": "markdown",
   "metadata": {},
   "source": [
    "## Now lets try annoy"
   ]
  },
  {
   "cell_type": "code",
   "execution_count": 33,
   "metadata": {},
   "outputs": [],
   "source": [
    "f = 512\n",
    "t = AnnoyIndex(f, 'angular')  # Length of item vector that will be indexed"
   ]
  },
  {
   "cell_type": "code",
   "execution_count": 34,
   "metadata": {},
   "outputs": [
    {
     "output_type": "execute_result",
     "data": {
      "text/plain": "(512,)"
     },
     "metadata": {},
     "execution_count": 34
    }
   ],
   "source": [
    "embeddings.iloc[1:2,12:524].values.flatten().shape"
   ]
  },
  {
   "cell_type": "code",
   "execution_count": 35,
   "metadata": {},
   "outputs": [
    {
     "output_type": "execute_result",
     "data": {
      "text/plain": "468197"
     },
     "metadata": {},
     "execution_count": 35
    }
   ],
   "source": [
    "N = embeddings.shape[0]\n",
    "N"
   ]
  },
  {
   "cell_type": "code",
   "execution_count": 36,
   "metadata": {
    "tags": []
   },
   "outputs": [
    {
     "output_type": "stream",
     "name": "stdout",
     "text": "CPU times: user 4min 44s, sys: 3.48 s, total: 4min 48s\nWall time: 4min 48s\n"
    }
   ],
   "source": [
    "%%time \n",
    "for i in range(N):\n",
    "    v = embeddings.iloc[i:(i+1),12:524].values.flatten()\n",
    "    t.add_item(i, v)"
   ]
  },
  {
   "cell_type": "code",
   "execution_count": 39,
   "metadata": {},
   "outputs": [
    {
     "output_type": "execute_result",
     "data": {
      "text/plain": "True"
     },
     "metadata": {},
     "execution_count": 39
    }
   ],
   "source": [
    "%%time\n",
    "t.build(50)\n",
    "t.save('test.ann')\n"
   ]
  },
  {
   "cell_type": "code",
   "execution_count": 7,
   "metadata": {
    "tags": []
   },
   "outputs": [
    {
     "output_type": "stream",
     "name": "stdout",
     "text": "CPU times: user 233 µs, sys: 307 µs, total: 540 µs\nWall time: 6.2 ms\n"
    },
    {
     "output_type": "execute_result",
     "data": {
      "text/plain": "True"
     },
     "metadata": {},
     "execution_count": 7
    }
   ],
   "source": [
    "%%time \n",
    "f = 512\n",
    "u = AnnoyIndex(f, 'angular')\n",
    "u.load('test.ann') # super fast, will just mmap the file\n"
   ]
  },
  {
   "cell_type": "code",
   "execution_count": 14,
   "metadata": {
    "tags": []
   },
   "outputs": [
    {
     "output_type": "stream",
     "name": "stdout",
     "text": "CPU times: user 3.02 ms, sys: 1.2 ms, total: 4.22 ms\nWall time: 2.78 ms\n"
    },
    {
     "output_type": "execute_result",
     "data": {
      "text/plain": "            datum                 speaker party  \\\n11     2010-01-12                     bos  PvdA   \n105887 2012-03-07               schippers   VVD   \n300100 2015-12-16  minister van der steur   NaN   \n99128  2012-01-31               opstelten   CDA   \n448200 2019-03-05       minister hoekstra   NaN   \n6276   2010-02-16              balkenende   CDA   \n36580  2010-12-09                    kamp   VVD   \n266362 2015-04-29           van der steur   VVD   \n264382 2015-04-21                van rijn  PvdA   \n460040 2019-05-21       minister hoekstra   NaN   \n\n                                                     text  \n11      Mevrouw de voorzitter. Mevrouw Verdonk is een ...  \n105887  Nee, ik heb de Kamer een onderzoek voorgesteld...  \n300100  Ik stel vast dat de commissie-Oosting dat ook ...  \n99128   Op verzoek van de Kamer en in goed overleg met...  \n448200  Daar staat dan tegenover dat we bij die overwe...  \n6276    De commissie heeft uit eigen beweging gezegd: ...  \n36580   Geen haar op mijn hoofd die eraan denkt om bij...  \n266362  Dat staat er inderdaad, maar de vraag rijst da...  \n264382  Toch even precies en naar mijn smaak zorgvuldi...  \n460040  Ik aarzel daar, puur omdat ik dan even zou moe...  ",
      "text/html": "<div>\n<style scoped>\n    .dataframe tbody tr th:only-of-type {\n        vertical-align: middle;\n    }\n\n    .dataframe tbody tr th {\n        vertical-align: top;\n    }\n\n    .dataframe thead th {\n        text-align: right;\n    }\n</style>\n<table border=\"1\" class=\"dataframe\">\n  <thead>\n    <tr style=\"text-align: right;\">\n      <th></th>\n      <th>datum</th>\n      <th>speaker</th>\n      <th>party</th>\n      <th>text</th>\n    </tr>\n  </thead>\n  <tbody>\n    <tr>\n      <th>11</th>\n      <td>2010-01-12</td>\n      <td>bos</td>\n      <td>PvdA</td>\n      <td>Mevrouw de voorzitter. Mevrouw Verdonk is een ...</td>\n    </tr>\n    <tr>\n      <th>105887</th>\n      <td>2012-03-07</td>\n      <td>schippers</td>\n      <td>VVD</td>\n      <td>Nee, ik heb de Kamer een onderzoek voorgesteld...</td>\n    </tr>\n    <tr>\n      <th>300100</th>\n      <td>2015-12-16</td>\n      <td>minister van der steur</td>\n      <td>NaN</td>\n      <td>Ik stel vast dat de commissie-Oosting dat ook ...</td>\n    </tr>\n    <tr>\n      <th>99128</th>\n      <td>2012-01-31</td>\n      <td>opstelten</td>\n      <td>CDA</td>\n      <td>Op verzoek van de Kamer en in goed overleg met...</td>\n    </tr>\n    <tr>\n      <th>448200</th>\n      <td>2019-03-05</td>\n      <td>minister hoekstra</td>\n      <td>NaN</td>\n      <td>Daar staat dan tegenover dat we bij die overwe...</td>\n    </tr>\n    <tr>\n      <th>6276</th>\n      <td>2010-02-16</td>\n      <td>balkenende</td>\n      <td>CDA</td>\n      <td>De commissie heeft uit eigen beweging gezegd: ...</td>\n    </tr>\n    <tr>\n      <th>36580</th>\n      <td>2010-12-09</td>\n      <td>kamp</td>\n      <td>VVD</td>\n      <td>Geen haar op mijn hoofd die eraan denkt om bij...</td>\n    </tr>\n    <tr>\n      <th>266362</th>\n      <td>2015-04-29</td>\n      <td>van der steur</td>\n      <td>VVD</td>\n      <td>Dat staat er inderdaad, maar de vraag rijst da...</td>\n    </tr>\n    <tr>\n      <th>264382</th>\n      <td>2015-04-21</td>\n      <td>van rijn</td>\n      <td>PvdA</td>\n      <td>Toch even precies en naar mijn smaak zorgvuldi...</td>\n    </tr>\n    <tr>\n      <th>460040</th>\n      <td>2019-05-21</td>\n      <td>minister hoekstra</td>\n      <td>NaN</td>\n      <td>Ik aarzel daar, puur omdat ik dan even zou moe...</td>\n    </tr>\n  </tbody>\n</table>\n</div>"
     },
     "metadata": {},
     "execution_count": 14
    }
   ],
   "source": [
    "%%time \n",
    "\n",
    "best_K = u.get_nns_by_item(11, 10)\n",
    "out = embeddings.iloc[best_K,:]\n",
    "out[[\"datum\", \"speaker\", \"party\", \"text\"]]\n",
    "    "
   ]
  },
  {
   "cell_type": "code",
   "execution_count": null,
   "metadata": {},
   "outputs": [],
   "source": []
  },
  {
   "cell_type": "code",
   "execution_count": 15,
   "metadata": {
    "tags": []
   },
   "outputs": [
    {
     "output_type": "stream",
     "name": "stdout",
     "text": "CPU times: user 1.66 s, sys: 731 ms, total: 2.4 s\nWall time: 1.98 s\n"
    },
    {
     "output_type": "execute_result",
     "data": {
      "text/plain": "            datum                   speaker party  \\\n11     2010-01-12                       bos  PvdA   \n1      2010-01-12                       bos  PvdA   \n445203 2019-02-12      minister grapperhaus   NaN   \n105887 2012-03-07                 schippers   VVD   \n117142 2012-05-15                   aptroot   VVD   \n300100 2015-12-16    minister van der steur   NaN   \n456505 2019-04-17  staatssecretaris keijzer   NaN   \n99128  2012-01-31                 opstelten   CDA   \n302296 2016-01-20    minister van der steur   NaN   \n184499 2013-10-30                 schippers   VVD   \n\n                                                     text  similarity  \n11      Mevrouw de voorzitter. Mevrouw Verdonk is een ...    1.000000  \n1       Voorzitter. De laatste conclusie van de heer W...    0.764701  \n445203  Het is misschien goed om daar toch nog het vol...    0.702756  \n105887  Nee, ik heb de Kamer een onderzoek voorgesteld...    0.701216  \n117142  Ja, ik rond af. Ik heb een laatste punt over d...    0.698580  \n300100  Ik stel vast dat de commissie-Oosting dat ook ...    0.695527  \n456505  Ik zal mijn uiterste best voor u doen. In de m...    0.684091  \n99128   Op verzoek van de Kamer en in goed overleg met...    0.680848  \n302296  Ik vind dat de Kamer geïnformeerd moet worden....    0.679452  \n184499  Over de discussie, de debatten en de agenderin...    0.678469  ",
      "text/html": "<div>\n<style scoped>\n    .dataframe tbody tr th:only-of-type {\n        vertical-align: middle;\n    }\n\n    .dataframe tbody tr th {\n        vertical-align: top;\n    }\n\n    .dataframe thead th {\n        text-align: right;\n    }\n</style>\n<table border=\"1\" class=\"dataframe\">\n  <thead>\n    <tr style=\"text-align: right;\">\n      <th></th>\n      <th>datum</th>\n      <th>speaker</th>\n      <th>party</th>\n      <th>text</th>\n      <th>similarity</th>\n    </tr>\n  </thead>\n  <tbody>\n    <tr>\n      <th>11</th>\n      <td>2010-01-12</td>\n      <td>bos</td>\n      <td>PvdA</td>\n      <td>Mevrouw de voorzitter. Mevrouw Verdonk is een ...</td>\n      <td>1.000000</td>\n    </tr>\n    <tr>\n      <th>1</th>\n      <td>2010-01-12</td>\n      <td>bos</td>\n      <td>PvdA</td>\n      <td>Voorzitter. De laatste conclusie van de heer W...</td>\n      <td>0.764701</td>\n    </tr>\n    <tr>\n      <th>445203</th>\n      <td>2019-02-12</td>\n      <td>minister grapperhaus</td>\n      <td>NaN</td>\n      <td>Het is misschien goed om daar toch nog het vol...</td>\n      <td>0.702756</td>\n    </tr>\n    <tr>\n      <th>105887</th>\n      <td>2012-03-07</td>\n      <td>schippers</td>\n      <td>VVD</td>\n      <td>Nee, ik heb de Kamer een onderzoek voorgesteld...</td>\n      <td>0.701216</td>\n    </tr>\n    <tr>\n      <th>117142</th>\n      <td>2012-05-15</td>\n      <td>aptroot</td>\n      <td>VVD</td>\n      <td>Ja, ik rond af. Ik heb een laatste punt over d...</td>\n      <td>0.698580</td>\n    </tr>\n    <tr>\n      <th>300100</th>\n      <td>2015-12-16</td>\n      <td>minister van der steur</td>\n      <td>NaN</td>\n      <td>Ik stel vast dat de commissie-Oosting dat ook ...</td>\n      <td>0.695527</td>\n    </tr>\n    <tr>\n      <th>456505</th>\n      <td>2019-04-17</td>\n      <td>staatssecretaris keijzer</td>\n      <td>NaN</td>\n      <td>Ik zal mijn uiterste best voor u doen. In de m...</td>\n      <td>0.684091</td>\n    </tr>\n    <tr>\n      <th>99128</th>\n      <td>2012-01-31</td>\n      <td>opstelten</td>\n      <td>CDA</td>\n      <td>Op verzoek van de Kamer en in goed overleg met...</td>\n      <td>0.680848</td>\n    </tr>\n    <tr>\n      <th>302296</th>\n      <td>2016-01-20</td>\n      <td>minister van der steur</td>\n      <td>NaN</td>\n      <td>Ik vind dat de Kamer geïnformeerd moet worden....</td>\n      <td>0.679452</td>\n    </tr>\n    <tr>\n      <th>184499</th>\n      <td>2013-10-30</td>\n      <td>schippers</td>\n      <td>VVD</td>\n      <td>Over de discussie, de debatten en de agenderin...</td>\n      <td>0.678469</td>\n    </tr>\n  </tbody>\n</table>\n</div>"
     },
     "metadata": {},
     "execution_count": 15
    }
   ],
   "source": [
    "%%time \n",
    "find_speeches(11, embeddings)"
   ]
  },
  {
   "cell_type": "code",
   "execution_count": null,
   "metadata": {},
   "outputs": [],
   "source": []
  }
 ]
}